{
  "cells": [
    {
      "cell_type": "code",
      "execution_count": null,
      "metadata": {
        "id": "eGcI_mlnDCcf",
        "colab": {
          "base_uri": "https://localhost:8080/"
        },
        "outputId": "48aa22fc-cb1c-47e4-bb86-a0c6521bea7a"
      },
      "outputs": [
        {
          "output_type": "stream",
          "name": "stdout",
          "text": [
            "working\n"
          ]
        }
      ],
      "source": [
        "!echo working"
      ]
    },
    {
      "cell_type": "markdown",
      "metadata": {
        "id": "wcyC803OrFXT"
      },
      "source": [
        "# Memoria"
      ]
    },
    {
      "cell_type": "code",
      "execution_count": null,
      "metadata": {
        "id": "1QJzJ0zKrHlU"
      },
      "outputs": [],
      "source": [
        "from psutil import virtual_memory\n",
        "ram_gb = virtual_memory().total / 1e9\n",
        "print('Your runtime has {:.1f} gigabytes of available RAM\\n'.format(ram_gb))\n",
        "\n",
        "if ram_gb < 20:\n",
        "  print('Not using a high-RAM runtime')\n",
        "else:\n",
        "  print('You are using a high-RAM runtime!')"
      ]
    },
    {
      "cell_type": "markdown",
      "metadata": {
        "id": "sxk2pALoKxWw"
      },
      "source": [
        "# Evitare timeout"
      ]
    },
    {
      "cell_type": "markdown",
      "metadata": {
        "id": "xbgbIh0sK5la"
      },
      "source": [
        "function ClickConnect(){\n",
        "console.log(\"Working\"); \n",
        "var xPathRes = document.evaluate('//*[@id=\"cell-eGcI_mlnDCcf\"]/div[2]/div[2]/div[1]/div[1]/div/colab-run-button', document, null, XPathResult.FIRST_ORDERED_NODE_TYPE, null);\n",
        "xPathRes.singleNodeValue.click();\n",
        "}\n",
        "setInterval(ClickConnect,300000)"
      ]
    },
    {
      "cell_type": "markdown",
      "metadata": {
        "id": "SZAHFNCj4St8"
      },
      "source": [
        "# Show our GPU"
      ]
    },
    {
      "cell_type": "code",
      "execution_count": null,
      "metadata": {
        "colab": {
          "base_uri": "https://localhost:8080/"
        },
        "id": "gvlavcVD4K7W",
        "outputId": "2036d86d-16de-4649-b1dd-12a548210ba8"
      },
      "outputs": [
        {
          "output_type": "stream",
          "name": "stdout",
          "text": [
            "Tue Jun 28 13:34:41 2022       \n",
            "+-----------------------------------------------------------------------------+\n",
            "| NVIDIA-SMI 460.32.03    Driver Version: 460.32.03    CUDA Version: 11.2     |\n",
            "|-------------------------------+----------------------+----------------------+\n",
            "| GPU  Name        Persistence-M| Bus-Id        Disp.A | Volatile Uncorr. ECC |\n",
            "| Fan  Temp  Perf  Pwr:Usage/Cap|         Memory-Usage | GPU-Util  Compute M. |\n",
            "|                               |                      |               MIG M. |\n",
            "|===============================+======================+======================|\n",
            "|   0  Tesla T4            Off  | 00000000:00:04.0 Off |                    0 |\n",
            "| N/A   41C    P8     9W /  70W |      0MiB / 15109MiB |      0%      Default |\n",
            "|                               |                      |                  N/A |\n",
            "+-------------------------------+----------------------+----------------------+\n",
            "                                                                               \n",
            "+-----------------------------------------------------------------------------+\n",
            "| Processes:                                                                  |\n",
            "|  GPU   GI   CI        PID   Type   Process name                  GPU Memory |\n",
            "|        ID   ID                                                   Usage      |\n",
            "|=============================================================================|\n",
            "|  No running processes found                                                 |\n",
            "+-----------------------------------------------------------------------------+\n"
          ]
        }
      ],
      "source": [
        "gpu_info = !nvidia-smi\n",
        "gpu_info = '\\n'.join(gpu_info)\n",
        "if gpu_info.find('failed') >= 0:\n",
        "  print('Not connected to a GPU')\n",
        "else:\n",
        "  print(gpu_info)"
      ]
    },
    {
      "cell_type": "markdown",
      "metadata": {
        "id": "uzQ3T5fTfJQ_"
      },
      "source": [
        "# Check CPU"
      ]
    },
    {
      "cell_type": "code",
      "execution_count": null,
      "metadata": {
        "id": "l_YoipWEfBCT"
      },
      "outputs": [],
      "source": [
        "!lscpu"
      ]
    },
    {
      "cell_type": "markdown",
      "metadata": {
        "id": "n3UpDScB7yxV"
      },
      "source": [
        "# **SSH**"
      ]
    },
    {
      "cell_type": "code",
      "execution_count": null,
      "metadata": {
        "id": "4GQkZ6h27woQ"
      },
      "outputs": [],
      "source": [
        "!pip install colab_ssh --upgrade"
      ]
    },
    {
      "cell_type": "code",
      "execution_count": null,
      "metadata": {
        "id": "W8CqBaWu79KH"
      },
      "outputs": [],
      "source": [
        "from colab_ssh import launch_ssh"
      ]
    },
    {
      "cell_type": "markdown",
      "metadata": {
        "id": "m5luwaug8L2S"
      },
      "source": [
        "link per ottenere il token: https://dashboard.ngrok.com/auth/your-authtoken"
      ]
    },
    {
      "cell_type": "code",
      "execution_count": null,
      "metadata": {
        "id": "b_F0gJdJ8BPr"
      },
      "outputs": [],
      "source": [
        "launch_ssh('<token>', '<passowrd>')"
      ]
    },
    {
      "cell_type": "code",
      "execution_count": null,
      "metadata": {
        "id": "GN1EVFokTL3S"
      },
      "outputs": [],
      "source": [
        "from google.colab import files\n",
        "uploaded = files.upload()"
      ]
    },
    {
      "cell_type": "code",
      "execution_count": null,
      "metadata": {
        "id": "w8ZzPRewalJp"
      },
      "outputs": [],
      "source": [
        "!ls"
      ]
    },
    {
      "cell_type": "markdown",
      "metadata": {
        "id": "eUAnhYNHFYmL"
      },
      "source": [
        "# GIT"
      ]
    },
    {
      "cell_type": "code",
      "source": [
        "!git clone https://github.com/CaliaG/ProgettoGraficaCUDA.git"
      ],
      "metadata": {
        "id": "yrSeTsTTYIlH"
      },
      "execution_count": null,
      "outputs": []
    },
    {
      "cell_type": "markdown",
      "metadata": {
        "id": "iNLuiHk1XSW6"
      },
      "source": [
        "# Creazione GIF"
      ]
    },
    {
      "cell_type": "code",
      "execution_count": null,
      "metadata": {
        "id": "-DSlt0q1Xerl"
      },
      "outputs": [],
      "source": [
        "!sudo apt-get install imagemagick"
      ]
    },
    {
      "cell_type": "code",
      "execution_count": null,
      "metadata": {
        "id": "4G55Slj9us0e"
      },
      "outputs": [],
      "source": [
        "!convert -delay 20 -loop 0 *.jpg risultato.gif"
      ]
    },
    {
      "cell_type": "code",
      "execution_count": null,
      "metadata": {
        "id": "nVEgxBFHUH-A"
      },
      "outputs": [],
      "source": [
        "%cd /content/ProgettoGraficaCUDA/"
      ]
    },
    {
      "cell_type": "markdown",
      "metadata": {
        "id": "om4TjZnRabIs"
      },
      "source": [
        "# Creazione ZIP Risultati"
      ]
    },
    {
      "cell_type": "code",
      "execution_count": null,
      "metadata": {
        "id": "jn1t1lLKaklY"
      },
      "outputs": [],
      "source": [
        "!zip -r /content/ProgettoGraficaCUDA/risultati.zip /content/ProgettoGraficaCUDA/*.jpg"
      ]
    },
    {
      "cell_type": "markdown",
      "metadata": {
        "id": "ILDEDX0lrjfq"
      },
      "source": [
        "#Upload File From Colab to Google Drive Folder"
      ]
    },
    {
      "cell_type": "code",
      "execution_count": null,
      "metadata": {
        "id": "Um3GAtlcrlFh"
      },
      "outputs": [],
      "source": [
        "from google.colab import drive\n",
        "drive.mount('/content/drive')"
      ]
    },
    {
      "cell_type": "code",
      "execution_count": null,
      "metadata": {
        "id": "MefuypmIrwID"
      },
      "outputs": [],
      "source": [
        "import shutil"
      ]
    },
    {
      "cell_type": "code",
      "execution_count": null,
      "metadata": {
        "id": "N3g8ZhbwrzV_"
      },
      "outputs": [],
      "source": [
        "shutil.copy(\"/content/ProgettoGraficaCUDA/risultati.zip\",\"/content/drive/MyDrive/Risultati\")"
      ]
    },
    {
      "cell_type": "code",
      "execution_count": null,
      "metadata": {
        "id": "N3uYzPHXugvk"
      },
      "outputs": [],
      "source": [
        "shutil.copy(\"/content/ProgettoGraficaCUDA/risultato.gif\",\"/content/drive/MyDrive/Risultati\")"
      ]
    },
    {
      "cell_type": "markdown",
      "metadata": {
        "id": "rY3Gi0o2PlUf"
      },
      "source": [
        "#MAKE"
      ]
    },
    {
      "cell_type": "code",
      "execution_count": null,
      "metadata": {
        "id": "Er0YS61VPoHd"
      },
      "outputs": [],
      "source": [
        "%cd /content/ProgettoGraficaCUDA/"
      ]
    },
    {
      "cell_type": "code",
      "execution_count": null,
      "metadata": {
        "id": "V3srQG-8PrcP"
      },
      "outputs": [],
      "source": [
        "!make"
      ]
    }
  ],
  "metadata": {
    "accelerator": "GPU",
    "colab": {
      "collapsed_sections": [
        "wcyC803OrFXT",
        "uzQ3T5fTfJQ_",
        "iNLuiHk1XSW6",
        "om4TjZnRabIs",
        "ILDEDX0lrjfq"
      ],
      "machine_shape": "hm",
      "name": "Progetto di Grafica UNIBAS [CUDA].ipynb",
      "provenance": []
    },
    "kernelspec": {
      "display_name": "Python 3",
      "name": "python3"
    }
  },
  "nbformat": 4,
  "nbformat_minor": 0
}